{
 "cells": [
  {
   "cell_type": "code",
   "execution_count": 2,
   "id": "bc13f3ae-8b37-4e15-af14-4a38e7ee7c88",
   "metadata": {},
   "outputs": [],
   "source": [
    "import pandas as pd\n",
    "import numpy as np\n",
    "import seaborn as sns\n",
    "import matplotlib.pyplot as plt\n",
    "\n",
    "%matplotlib inline"
   ]
  },
  {
   "cell_type": "markdown",
   "id": "4a8d0a96-b2d1-4d28-8a51-8635fab662d9",
   "metadata": {},
   "source": [
    "# Обработка данных"
   ]
  },
  {
   "cell_type": "code",
   "execution_count": 77,
   "id": "6f391ba3-370c-4695-8acf-d418b763ac64",
   "metadata": {},
   "outputs": [],
   "source": [
    "data = pd.read_csv('SpotifyFeatures.csv')"
   ]
  },
  {
   "cell_type": "code",
   "execution_count": 78,
   "id": "75f1f348-96c7-4916-9e8c-dd870ef30062",
   "metadata": {},
   "outputs": [
    {
     "name": "stdout",
     "output_type": "stream",
     "text": [
      "<class 'pandas.core.frame.DataFrame'>\n",
      "RangeIndex: 232725 entries, 0 to 232724\n",
      "Data columns (total 18 columns):\n",
      " #   Column            Non-Null Count   Dtype  \n",
      "---  ------            --------------   -----  \n",
      " 0   genre             232725 non-null  object \n",
      " 1   artist_name       232725 non-null  object \n",
      " 2   track_name        232725 non-null  object \n",
      " 3   track_id          232725 non-null  object \n",
      " 4   popularity        232725 non-null  int64  \n",
      " 5   acousticness      232725 non-null  float64\n",
      " 6   danceability      232725 non-null  float64\n",
      " 7   duration_ms       232725 non-null  int64  \n",
      " 8   energy            232725 non-null  float64\n",
      " 9   instrumentalness  232725 non-null  float64\n",
      " 10  key               232725 non-null  object \n",
      " 11  liveness          232725 non-null  float64\n",
      " 12  loudness          232725 non-null  float64\n",
      " 13  mode              232725 non-null  object \n",
      " 14  speechiness       232725 non-null  float64\n",
      " 15  tempo             232725 non-null  float64\n",
      " 16  time_signature    232725 non-null  object \n",
      " 17  valence           232725 non-null  float64\n",
      "dtypes: float64(9), int64(2), object(7)\n",
      "memory usage: 32.0+ MB\n"
     ]
    }
   ],
   "source": [
    "data.info()"
   ]
  },
  {
   "cell_type": "markdown",
   "id": "176e47a6-849d-4329-9dc9-341d1aab570c",
   "metadata": {},
   "source": [
    "Для начала поработаю с числовыми признаками, потом уже в зависимости от метрики решу, нужно ли здесь что-то большее."
   ]
  },
  {
   "cell_type": "code",
   "execution_count": 79,
   "id": "b747a0b9-cc13-45e2-9c01-87ac76f06043",
   "metadata": {},
   "outputs": [
    {
     "data": {
      "text/plain": [
       "Index(['popularity', 'acousticness', 'danceability', 'duration_ms', 'energy',\n",
       "       'instrumentalness', 'liveness', 'loudness', 'speechiness', 'tempo',\n",
       "       'valence'],\n",
       "      dtype='object')"
      ]
     },
     "execution_count": 79,
     "metadata": {},
     "output_type": "execute_result"
    }
   ],
   "source": [
    "numeric = data.columns[data.dtypes != 'object']\n",
    "numeric"
   ]
  },
  {
   "cell_type": "markdown",
   "id": "6b01055d-8890-4c61-85c3-8b4cf9563913",
   "metadata": {},
   "source": [
    "Судя по всему, popularity - целевая переменная, поэтому удалю ее из списка."
   ]
  },
  {
   "cell_type": "code",
   "execution_count": 80,
   "id": "1a3ca652-e4d2-41b6-91af-d643a4a16417",
   "metadata": {},
   "outputs": [],
   "source": [
    "data = data.assign(popularity_class = data['popularity'] // 26)"
   ]
  },
  {
   "cell_type": "code",
   "execution_count": 81,
   "id": "8bae9ed0-2967-4013-bcbb-52bc1e080052",
   "metadata": {},
   "outputs": [],
   "source": [
    "numeric = numeric.drop('popularity')"
   ]
  },
  {
   "cell_type": "code",
   "execution_count": 82,
   "id": "4dd1bd26-9e5e-4b29-a977-f141a491a2b9",
   "metadata": {},
   "outputs": [],
   "source": [
    "X = data[numeric]\n",
    "y = data['popularity']"
   ]
  },
  {
   "cell_type": "markdown",
   "id": "9fbc1937-d55d-4047-a043-5339ce59a383",
   "metadata": {},
   "source": [
    "# Построение модели"
   ]
  },
  {
   "cell_type": "code",
   "execution_count": 8,
   "id": "a6820fdb-d647-4b5c-94b3-bc9b12acb652",
   "metadata": {},
   "outputs": [],
   "source": [
    "from sklearn.model_selection import train_test_split\n",
    "\n",
    "X_train, X_test, y_train, y_test = train_test_split(X, y, test_size=0.1, random_state=0)"
   ]
  },
  {
   "cell_type": "code",
   "execution_count": 9,
   "id": "f3b05be3-f444-4bd4-a51b-4be02e918c12",
   "metadata": {
    "tags": []
   },
   "outputs": [
    {
     "data": {
      "text/html": [
       "<div>\n",
       "<style scoped>\n",
       "    .dataframe tbody tr th:only-of-type {\n",
       "        vertical-align: middle;\n",
       "    }\n",
       "\n",
       "    .dataframe tbody tr th {\n",
       "        vertical-align: top;\n",
       "    }\n",
       "\n",
       "    .dataframe thead th {\n",
       "        text-align: right;\n",
       "    }\n",
       "</style>\n",
       "<table border=\"1\" class=\"dataframe\">\n",
       "  <thead>\n",
       "    <tr style=\"text-align: right;\">\n",
       "      <th></th>\n",
       "      <th>acousticness</th>\n",
       "      <th>danceability</th>\n",
       "      <th>duration_ms</th>\n",
       "      <th>energy</th>\n",
       "      <th>instrumentalness</th>\n",
       "      <th>liveness</th>\n",
       "      <th>loudness</th>\n",
       "      <th>speechiness</th>\n",
       "      <th>tempo</th>\n",
       "      <th>valence</th>\n",
       "    </tr>\n",
       "  </thead>\n",
       "  <tbody>\n",
       "    <tr>\n",
       "      <th>179321</th>\n",
       "      <td>0.0944</td>\n",
       "      <td>0.4490</td>\n",
       "      <td>226653</td>\n",
       "      <td>0.7810</td>\n",
       "      <td>0.681000</td>\n",
       "      <td>0.5030</td>\n",
       "      <td>-12.849</td>\n",
       "      <td>0.0823</td>\n",
       "      <td>119.166</td>\n",
       "      <td>0.9330</td>\n",
       "    </tr>\n",
       "    <tr>\n",
       "      <th>218707</th>\n",
       "      <td>0.8620</td>\n",
       "      <td>0.2170</td>\n",
       "      <td>498000</td>\n",
       "      <td>0.2300</td>\n",
       "      <td>0.898000</td>\n",
       "      <td>0.7250</td>\n",
       "      <td>-12.791</td>\n",
       "      <td>0.0324</td>\n",
       "      <td>149.760</td>\n",
       "      <td>0.0742</td>\n",
       "    </tr>\n",
       "    <tr>\n",
       "      <th>56524</th>\n",
       "      <td>0.3750</td>\n",
       "      <td>0.6380</td>\n",
       "      <td>251228</td>\n",
       "      <td>0.3450</td>\n",
       "      <td>0.000000</td>\n",
       "      <td>0.1160</td>\n",
       "      <td>-9.048</td>\n",
       "      <td>0.0744</td>\n",
       "      <td>85.455</td>\n",
       "      <td>0.3110</td>\n",
       "    </tr>\n",
       "    <tr>\n",
       "      <th>127427</th>\n",
       "      <td>0.9750</td>\n",
       "      <td>0.2450</td>\n",
       "      <td>273067</td>\n",
       "      <td>0.0675</td>\n",
       "      <td>0.000222</td>\n",
       "      <td>0.1070</td>\n",
       "      <td>-19.141</td>\n",
       "      <td>0.0473</td>\n",
       "      <td>61.730</td>\n",
       "      <td>0.0506</td>\n",
       "    </tr>\n",
       "    <tr>\n",
       "      <th>225063</th>\n",
       "      <td>0.2010</td>\n",
       "      <td>0.5850</td>\n",
       "      <td>221800</td>\n",
       "      <td>0.6430</td>\n",
       "      <td>0.000306</td>\n",
       "      <td>0.1440</td>\n",
       "      <td>-8.392</td>\n",
       "      <td>0.0395</td>\n",
       "      <td>152.980</td>\n",
       "      <td>0.5920</td>\n",
       "    </tr>\n",
       "    <tr>\n",
       "      <th>...</th>\n",
       "      <td>...</td>\n",
       "      <td>...</td>\n",
       "      <td>...</td>\n",
       "      <td>...</td>\n",
       "      <td>...</td>\n",
       "      <td>...</td>\n",
       "      <td>...</td>\n",
       "      <td>...</td>\n",
       "      <td>...</td>\n",
       "      <td>...</td>\n",
       "    </tr>\n",
       "    <tr>\n",
       "      <th>176963</th>\n",
       "      <td>0.9550</td>\n",
       "      <td>0.4920</td>\n",
       "      <td>239267</td>\n",
       "      <td>0.1330</td>\n",
       "      <td>0.650000</td>\n",
       "      <td>0.3940</td>\n",
       "      <td>-14.821</td>\n",
       "      <td>0.0548</td>\n",
       "      <td>124.087</td>\n",
       "      <td>0.4260</td>\n",
       "    </tr>\n",
       "    <tr>\n",
       "      <th>117952</th>\n",
       "      <td>0.0344</td>\n",
       "      <td>0.8380</td>\n",
       "      <td>185707</td>\n",
       "      <td>0.4120</td>\n",
       "      <td>0.000234</td>\n",
       "      <td>0.1590</td>\n",
       "      <td>-7.148</td>\n",
       "      <td>0.2890</td>\n",
       "      <td>75.044</td>\n",
       "      <td>0.1660</td>\n",
       "    </tr>\n",
       "    <tr>\n",
       "      <th>173685</th>\n",
       "      <td>0.8200</td>\n",
       "      <td>0.5840</td>\n",
       "      <td>103320</td>\n",
       "      <td>0.3710</td>\n",
       "      <td>0.000000</td>\n",
       "      <td>0.2650</td>\n",
       "      <td>-18.916</td>\n",
       "      <td>0.9380</td>\n",
       "      <td>87.051</td>\n",
       "      <td>0.5790</td>\n",
       "    </tr>\n",
       "    <tr>\n",
       "      <th>43567</th>\n",
       "      <td>0.0869</td>\n",
       "      <td>0.6910</td>\n",
       "      <td>316307</td>\n",
       "      <td>0.5670</td>\n",
       "      <td>0.150000</td>\n",
       "      <td>0.0276</td>\n",
       "      <td>-11.624</td>\n",
       "      <td>0.0515</td>\n",
       "      <td>116.705</td>\n",
       "      <td>0.9420</td>\n",
       "    </tr>\n",
       "    <tr>\n",
       "      <th>199340</th>\n",
       "      <td>0.6600</td>\n",
       "      <td>0.0771</td>\n",
       "      <td>148213</td>\n",
       "      <td>0.1460</td>\n",
       "      <td>0.980000</td>\n",
       "      <td>0.1350</td>\n",
       "      <td>-24.423</td>\n",
       "      <td>0.0480</td>\n",
       "      <td>62.816</td>\n",
       "      <td>0.0320</td>\n",
       "    </tr>\n",
       "  </tbody>\n",
       "</table>\n",
       "<p>209452 rows × 10 columns</p>\n",
       "</div>"
      ],
      "text/plain": [
       "        acousticness  danceability  duration_ms  energy  instrumentalness  \\\n",
       "179321        0.0944        0.4490       226653  0.7810          0.681000   \n",
       "218707        0.8620        0.2170       498000  0.2300          0.898000   \n",
       "56524         0.3750        0.6380       251228  0.3450          0.000000   \n",
       "127427        0.9750        0.2450       273067  0.0675          0.000222   \n",
       "225063        0.2010        0.5850       221800  0.6430          0.000306   \n",
       "...              ...           ...          ...     ...               ...   \n",
       "176963        0.9550        0.4920       239267  0.1330          0.650000   \n",
       "117952        0.0344        0.8380       185707  0.4120          0.000234   \n",
       "173685        0.8200        0.5840       103320  0.3710          0.000000   \n",
       "43567         0.0869        0.6910       316307  0.5670          0.150000   \n",
       "199340        0.6600        0.0771       148213  0.1460          0.980000   \n",
       "\n",
       "        liveness  loudness  speechiness    tempo  valence  \n",
       "179321    0.5030   -12.849       0.0823  119.166   0.9330  \n",
       "218707    0.7250   -12.791       0.0324  149.760   0.0742  \n",
       "56524     0.1160    -9.048       0.0744   85.455   0.3110  \n",
       "127427    0.1070   -19.141       0.0473   61.730   0.0506  \n",
       "225063    0.1440    -8.392       0.0395  152.980   0.5920  \n",
       "...          ...       ...          ...      ...      ...  \n",
       "176963    0.3940   -14.821       0.0548  124.087   0.4260  \n",
       "117952    0.1590    -7.148       0.2890   75.044   0.1660  \n",
       "173685    0.2650   -18.916       0.9380   87.051   0.5790  \n",
       "43567     0.0276   -11.624       0.0515  116.705   0.9420  \n",
       "199340    0.1350   -24.423       0.0480   62.816   0.0320  \n",
       "\n",
       "[209452 rows x 10 columns]"
      ]
     },
     "execution_count": 9,
     "metadata": {},
     "output_type": "execute_result"
    }
   ],
   "source": [
    "X_train"
   ]
  },
  {
   "cell_type": "code",
   "execution_count": 10,
   "id": "78459583-4e31-41a1-87ae-30525063342d",
   "metadata": {},
   "outputs": [
    {
     "data": {
      "text/plain": [
       "RandomForestRegressor(n_jobs=-1, random_state=0)"
      ]
     },
     "execution_count": 10,
     "metadata": {},
     "output_type": "execute_result"
    }
   ],
   "source": [
    "from sklearn.ensemble import RandomForestRegressor\n",
    "\n",
    "model = RandomForestRegressor(random_state=0, n_jobs=-1)\n",
    "model.fit(X_train, y_train)"
   ]
  },
  {
   "cell_type": "markdown",
   "id": "43db66f1-f2cf-4e52-b040-536982e6914d",
   "metadata": {},
   "source": [
    "# Исследование модели"
   ]
  },
  {
   "cell_type": "code",
   "execution_count": 11,
   "id": "f3e72f87-ed32-4537-9e51-4cc6b1730096",
   "metadata": {},
   "outputs": [
    {
     "data": {
      "text/plain": [
       "8.078975637004254"
      ]
     },
     "execution_count": 11,
     "metadata": {},
     "output_type": "execute_result"
    }
   ],
   "source": [
    "from sklearn.metrics import mean_absolute_error\n",
    "\n",
    "pred = model.predict(X_test).astype('int')\n",
    "mean_absolute_error(y_test, pred)"
   ]
  },
  {
   "cell_type": "code",
   "execution_count": 12,
   "id": "d099b37d-646c-4f21-8b22-bf793765d012",
   "metadata": {},
   "outputs": [],
   "source": [
    "importances = model.feature_importances_\n",
    "indices = np.arange(importances.size)\n",
    "names = X.columns"
   ]
  },
  {
   "cell_type": "code",
   "execution_count": 13,
   "id": "1e8f202c-47ca-49fa-86b7-f27fd2d36736",
   "metadata": {},
   "outputs": [
    {
     "data": {
      "image/png": "[encoded data removed]",
      "text/plain": [
       "<Figure size 432x288 with 1 Axes>"
      ]
     },
     "metadata": {
      "needs_background": "light"
     },
     "output_type": "display_data"
    }
   ],
   "source": [
    "plt.figure()\n",
    "plt.title('Feature importance')\n",
    "plt.bar(range(len(names)), importances[indices])\n",
    "plt.xticks(range(len(names)), names, rotation=90)\n",
    "plt.show()"
   ]
  },
  {
   "cell_type": "markdown",
   "id": "6eb6dd74-37ed-4227-ad8b-1959d77b22c5",
   "metadata": {},
   "source": [
    "# Обработка категориальных признаков"
   ]
  },
  {
   "cell_type": "markdown",
   "id": "30b9b178-3372-4764-91d4-cb4a78123709",
   "metadata": {},
   "source": [
    "**genre** - жанр песни - поддается обработке, потенциально высокая связь с популярностью\n",
    "\n",
    "**artist_name** - имя артиста - слишком много уникальных значений, вряд ли влияет на популярность\n",
    "\n",
    "**track_name** - название трека - слишком много уникальных значений, вряд ли влияет на популярность\n",
    "\n",
    "**track_id** - уникальный идентификатор трека - слишком много уникальных значений, никак не связано с популярностью\n",
    "\n",
    "**key** - аккорд - поддается обработке, связь с популярностью неочевидна\n",
    "\n",
    "**mode** - тональность - поддается обработке, связь с популярностью должна отсутствовать\n",
    "\n",
    "**time_signature** - размерность - поддается обработке, можно исследовать связь с популярностью"
   ]
  },
  {
   "cell_type": "code",
   "execution_count": 50,
   "id": "5c434bd5-a3df-4ca5-8fcd-4bb171ef5dd5",
   "metadata": {},
   "outputs": [],
   "source": [
    "X = X.join(pd.get_dummies(data[['genre', 'key']]))"
   ]
  },
  {
   "cell_type": "code",
   "execution_count": 51,
   "id": "a34c546d-909e-436b-aa12-cda9d28afb8c",
   "metadata": {},
   "outputs": [],
   "source": [
    "from sklearn.model_selection import train_test_split\n",
    "\n",
    "X_train, X_test, y_train, y_test = train_test_split(X, y, test_size=0.1, random_state=0)"
   ]
  },
  {
   "cell_type": "code",
   "execution_count": 52,
   "id": "b7f58f8a-2bb1-46b9-8e30-04ffae4826cc",
   "metadata": {},
   "outputs": [
    {
     "data": {
      "text/plain": [
       "RandomForestRegressor(n_jobs=-1, random_state=0)"
      ]
     },
     "execution_count": 52,
     "metadata": {},
     "output_type": "execute_result"
    }
   ],
   "source": [
    "model_w_cat = RandomForestRegressor(random_state=0, n_jobs=-1)\n",
    "model_w_cat.fit(X_train, y_train)"
   ]
  },
  {
   "cell_type": "code",
   "execution_count": 53,
   "id": "8eb53b36-2cbe-4e91-bdd4-db527a3c7ac3",
   "metadata": {},
   "outputs": [
    {
     "data": {
      "text/plain": [
       "6.999613285781807"
      ]
     },
     "execution_count": 53,
     "metadata": {},
     "output_type": "execute_result"
    }
   ],
   "source": [
    "mean_absolute_error(y_test, model_w_cat.predict(X_test).astype('int'))"
   ]
  }
 ],
 "metadata": {
  "kernelspec": {
   "display_name": "Python 3",
   "language": "python",
   "name": "python3"
  },
  "language_info": {
   "codemirror_mode": {
    "name": "ipython",
    "version": 3
   },
   "file_extension": ".py",
   "mimetype": "text/x-python",
   "name": "python",
   "nbconvert_exporter": "python",
   "pygments_lexer": "ipython3",
   "version": "3.8.8"
  }
 },
 "nbformat": 4,
 "nbformat_minor": 5
}
