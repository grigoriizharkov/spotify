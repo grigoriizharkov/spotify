{
 "cells": [
  {
   "cell_type": "code",
   "execution_count": 1,
   "id": "bc13f3ae-8b37-4e15-af14-4a38e7ee7c88",
   "metadata": {},
   "outputs": [],
   "source": [
    "import pandas as pd\n",
    "import numpy as np\n",
    "import seaborn as sns\n",
    "import matplotlib.pyplot as plt\n",
    "\n",
    "%matplotlib inline"
   ]
  },
  {
   "cell_type": "markdown",
   "id": "4a8d0a96-b2d1-4d28-8a51-8635fab662d9",
   "metadata": {},
   "source": [
    "# Обработка данных"
   ]
  },
  {
   "cell_type": "code",
   "execution_count": 2,
   "id": "b03b055c-be3b-4669-b36d-c674de9aa65b",
   "metadata": {},
   "outputs": [
    {
     "name": "stdout",
     "output_type": "stream",
     "text": [
      "<class 'pandas.core.frame.DataFrame'>\n",
      "RangeIndex: 232725 entries, 0 to 232724\n",
      "Data columns (total 18 columns):\n",
      " #   Column            Non-Null Count   Dtype  \n",
      "---  ------            --------------   -----  \n",
      " 0   genre             232725 non-null  object \n",
      " 1   artist_name       232725 non-null  object \n",
      " 2   track_name        232725 non-null  object \n",
      " 3   track_id          232725 non-null  object \n",
      " 4   popularity        232725 non-null  int64  \n",
      " 5   acousticness      232725 non-null  float64\n",
      " 6   danceability      232725 non-null  float64\n",
      " 7   duration_ms       232725 non-null  int64  \n",
      " 8   energy            232725 non-null  float64\n",
      " 9   instrumentalness  232725 non-null  float64\n",
      " 10  key               232725 non-null  object \n",
      " 11  liveness          232725 non-null  float64\n",
      " 12  loudness          232725 non-null  float64\n",
      " 13  mode              232725 non-null  object \n",
      " 14  speechiness       232725 non-null  float64\n",
      " 15  tempo             232725 non-null  float64\n",
      " 16  time_signature    232725 non-null  object \n",
      " 17  valence           232725 non-null  float64\n",
      "dtypes: float64(9), int64(2), object(7)\n",
      "memory usage: 32.0+ MB\n"
     ]
    }
   ],
   "source": [
    "data = pd.read_csv('SpotifyFeatures.csv')\n",
    "data.info()"
   ]
  },
  {
   "cell_type": "markdown",
   "id": "2aafe56d-6953-4388-8ee3-22defe40acaf",
   "metadata": {},
   "source": [
    "## Числовые признаки"
   ]
  },
  {
   "cell_type": "markdown",
   "id": "38799afc-b375-4424-8fe1-da1397c5f478",
   "metadata": {},
   "source": [
    "Выделим для начала числовые признаки, так как они дополнительной обработки не требуют. Исходя из условия, *popularity* - целевая переменная, поэтому удалю ее из этого списка."
   ]
  },
  {
   "cell_type": "code",
   "execution_count": 23,
   "id": "1077e30a-4254-48d5-a70e-f8772bd802f9",
   "metadata": {},
   "outputs": [
    {
     "data": {
      "text/plain": [
       "Index(['acousticness', 'danceability', 'duration_ms', 'energy',\n",
       "       'instrumentalness', 'liveness', 'loudness', 'speechiness', 'tempo',\n",
       "       'valence'],\n",
       "      dtype='object')"
      ]
     },
     "execution_count": 23,
     "metadata": {},
     "output_type": "execute_result"
    }
   ],
   "source": [
    "numeric = data.columns[data.dtypes != 'object']\n",
    "numeric = numeric.drop('popularity')\n",
    "numeric"
   ]
  },
  {
   "cell_type": "markdown",
   "id": "f4cb86f8-7217-477c-9354-8de8b1d5a54d",
   "metadata": {},
   "source": [
    "Все признаки будем использовать в модели"
   ]
  },
  {
   "cell_type": "markdown",
   "id": "acce94a1-0282-49dc-9523-d9c7e04e1060",
   "metadata": {},
   "source": [
    "## Категориальные признаки\n",
    "\n",
    "**genre** - жанр песни - поддается обработке, потенциально высокая связь с популярностью\n",
    "\n",
    "**artist_name** - имя артиста - слишком много уникальных значений, вряд ли влияет на популярность\n",
    "\n",
    "**track_name** - название трека - слишком много уникальных значений, вряд ли влияет на популярность\n",
    "\n",
    "**track_id** - уникальный идентификатор трека - слишком много уникальных значений, никак не связано с популярностью\n",
    "\n",
    "**key** - аккорд - поддается обработке, связь с популярностью должна отсутствовать\n",
    "\n",
    "**mode** - тональность - поддается обработке, связь с популярностью должна отсутствовать\n",
    "\n",
    "**time_signature** - размерность - поддается обработке, связь с популярностью должна отсутствовать"
   ]
  },
  {
   "cell_type": "markdown",
   "id": "70f31b5a-aa27-42e3-a3e4-a9d5b18f1d35",
   "metadata": {},
   "source": [
    "Выберем только жанр. Применим для этого признака OneHot кодирование"
   ]
  },
  {
   "cell_type": "code",
   "execution_count": 44,
   "id": "06c79436-b21d-4e6e-8be3-f8edbb7c7711",
   "metadata": {},
   "outputs": [],
   "source": [
    "from sklearn.model_selection import train_test_split\n",
    "\n",
    "X = pd.get_dummies(data[numeric].join(data.genre))\n",
    "y = data.popularity\n",
    "\n",
    "X_train, X_test, y_train, y_test = train_test_split(X, y, test_size=0.1, random_state=0)"
   ]
  },
  {
   "cell_type": "markdown",
   "id": "69852bda-dfba-47e9-b1f7-5bcf3aa3a950",
   "metadata": {},
   "source": [
    "# Обучение моделей"
   ]
  },
  {
   "cell_type": "markdown",
   "id": "b248867c-9b1b-4e1d-b0b2-ababe17ec8fb",
   "metadata": {},
   "source": [
    "Выбрал простую линейную регресиию без регуляризации и лес решающих деревьев"
   ]
  },
  {
   "cell_type": "code",
   "execution_count": 67,
   "id": "a1323a03-dd04-4096-b167-10f9d4a3e2ec",
   "metadata": {},
   "outputs": [
    {
     "data": {
      "text/plain": [
       "RandomForestRegressor(n_jobs=-1, random_state=0)"
      ]
     },
     "execution_count": 67,
     "metadata": {},
     "output_type": "execute_result"
    }
   ],
   "source": [
    "from sklearn.ensemble import RandomForestRegressor\n",
    "from sklearn.linear_model import LinearRegression, Lasso, Ridge\n",
    "\n",
    "rfr = RandomForestRegressor(random_state=0, n_jobs=-1)\n",
    "lr = LinearRegression(normalize=True, n_jobs=-1)\n",
    "\n",
    "lr.fit(X_train, y_train)\n",
    "rfr.fit(X_train, y_train)"
   ]
  },
  {
   "cell_type": "markdown",
   "id": "704cb9a0-1358-476d-b911-7587d410e278",
   "metadata": {},
   "source": [
    "# Валидация моделей"
   ]
  },
  {
   "cell_type": "markdown",
   "id": "7e3e2947-1ec2-49a2-aa57-5cb16b558af1",
   "metadata": {},
   "source": [
    "Пусть результатом, от которого мы будем отталкиваться при валидации моделей, будет значение средней ошибки, когда каждой песне мы ставим в качестве ответа 50 - среднюю возможную оценку."
   ]
  },
  {
   "cell_type": "code",
   "execution_count": 80,
   "id": "1e0cbd47-4250-456e-bb5a-8ec3e5e14b51",
   "metadata": {},
   "outputs": [
    {
     "data": {
      "text/plain": [
       "15.913461951617755"
      ]
     },
     "execution_count": 80,
     "metadata": {},
     "output_type": "execute_result"
    }
   ],
   "source": [
    "baseline = [50] * y_test.size\n",
    "mean_absolute_error(y_test, baseline)"
   ]
  },
  {
   "cell_type": "code",
   "execution_count": 70,
   "id": "db989e94-5013-4717-b1ea-fa5b25db7a12",
   "metadata": {},
   "outputs": [
    {
     "name": "stdout",
     "output_type": "stream",
     "text": [
      "7.228431010284181\n",
      "7.053317505161305\n"
     ]
    }
   ],
   "source": [
    "print(mean_absolute_error(y_test, lr.predict(X_test)))\n",
    "print(mean_absolute_error(y_test, rfr.predict(X_test)))"
   ]
  },
  {
   "cell_type": "markdown",
   "id": "f49137f6-68a6-49e2-bf14-8de5215b6d17",
   "metadata": {},
   "source": [
    "Как можно видеть, линейная регрессия немного уступает лесу деревьев, однако стоит заметить, что обучается она гораздо быстрее"
   ]
  }
 ],
 "metadata": {
  "kernelspec": {
   "display_name": "Python 3",
   "language": "python",
   "name": "python3"
  },
  "language_info": {
   "codemirror_mode": {
    "name": "ipython",
    "version": 3
   },
   "file_extension": ".py",
   "mimetype": "text/x-python",
   "name": "python",
   "nbconvert_exporter": "python",
   "pygments_lexer": "ipython3",
   "version": "3.8.8"
  }
 },
 "nbformat": 4,
 "nbformat_minor": 5
}
